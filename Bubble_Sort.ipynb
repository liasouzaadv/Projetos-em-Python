{
  "nbformat": 4,
  "nbformat_minor": 0,
  "metadata": {
    "colab": {
      "provenance": [],
      "authorship_tag": "ABX9TyMyNv/wcPzdKhuHHPuk6RaN",
      "include_colab_link": true
    },
    "kernelspec": {
      "name": "python3",
      "display_name": "Python 3"
    },
    "language_info": {
      "name": "python"
    }
  },
  "cells": [
    {
      "cell_type": "markdown",
      "metadata": {
        "id": "view-in-github",
        "colab_type": "text"
      },
      "source": [
        "<a href=\"https://colab.research.google.com/github/liasouzaadv/Projetos-em-Python/blob/main/Bubble_Sort.ipynb\" target=\"_parent\"><img src=\"https://colab.research.google.com/assets/colab-badge.svg\" alt=\"Open In Colab\"/></a>"
      ]
    },
    {
      "cell_type": "markdown",
      "source": [
        "## Algorítimo Bubble Sort\n",
        "\n",
        "Pseudocódigo:\n",
        "\n",
        "Inicie\n",
        "\n",
        "      Para cada elemento i no array de tamanho n\n",
        "        Para cada elemento j no array de tamanho n - 1\n",
        "          Se o elemento i for maior que o elemento j\n",
        "            Troque os elementos i e j\n",
        "      Exiba o array ordenado\n",
        "\n",
        "Fim"
      ],
      "metadata": {
        "id": "0nYdlR4zh-FZ"
      }
    },
    {
      "cell_type": "code",
      "source": [
        "lista = [6, 7, 8, 3, 10, 19, 4, 1, 0, 61, 30, 16, 17, 82, 29, 34]"
      ],
      "metadata": {
        "id": "o4we957wjbd5"
      },
      "execution_count": 12,
      "outputs": []
    },
    {
      "cell_type": "code",
      "source": [
        "def bubble_sort(arr):\n",
        "    n = len(arr)\n",
        "\n",
        "    for i in range(n):\n",
        "        for j in range(0, n-i-1):\n",
        "            if arr[j] > arr[j+1]:\n",
        "                arr[j], arr[j+1] = arr[j+1], arr[j]\n",
        "    return arr"
      ],
      "metadata": {
        "id": "x7oX8VtwjuCS"
      },
      "execution_count": 13,
      "outputs": []
    },
    {
      "cell_type": "code",
      "source": [
        "print(bubble_sort(lista))"
      ],
      "metadata": {
        "colab": {
          "base_uri": "https://localhost:8080/"
        },
        "id": "6UXJJGLYkNdi",
        "outputId": "152a133e-bc19-4344-ba14-b493abf4aa82"
      },
      "execution_count": 15,
      "outputs": [
        {
          "output_type": "stream",
          "name": "stdout",
          "text": [
            "[0, 1, 3, 4, 6, 7, 8, 10, 16, 17, 19, 29, 30, 34, 61, 82]\n"
          ]
        }
      ]
    },
    {
      "cell_type": "code",
      "source": [],
      "metadata": {
        "id": "tbff0MmQkP8B"
      },
      "execution_count": null,
      "outputs": []
    }
  ]
}