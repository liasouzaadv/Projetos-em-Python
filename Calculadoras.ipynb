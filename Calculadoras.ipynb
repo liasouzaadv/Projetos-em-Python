{
  "nbformat": 4,
  "nbformat_minor": 0,
  "metadata": {
    "colab": {
      "provenance": [],
      "authorship_tag": "ABX9TyMWgXioGKxtf7gX5guryN5Z",
      "include_colab_link": true
    },
    "kernelspec": {
      "name": "python3",
      "display_name": "Python 3"
    },
    "language_info": {
      "name": "python"
    }
  },
  "cells": [
    {
      "cell_type": "markdown",
      "metadata": {
        "id": "view-in-github",
        "colab_type": "text"
      },
      "source": [
        "<a href=\"https://colab.research.google.com/github/liasouzaadv/Projetos-em-Python/blob/main/Calculadoras.ipynb\" target=\"_parent\"><img src=\"https://colab.research.google.com/assets/colab-badge.svg\" alt=\"Open In Colab\"/></a>"
      ]
    },
    {
      "cell_type": "markdown",
      "source": [
        "Calculadora simples"
      ],
      "metadata": {
        "id": "SFV7OFUlfBtU"
      }
    },
    {
      "cell_type": "code",
      "source": [
        "print(\"Bem-vindo à Calculadora\")"
      ],
      "metadata": {
        "colab": {
          "base_uri": "https://localhost:8080/"
        },
        "id": "JkAN2st1fKyI",
        "outputId": "b2673be5-bd75-4745-9f2d-acddf3200473"
      },
      "execution_count": 1,
      "outputs": [
        {
          "output_type": "stream",
          "name": "stdout",
          "text": [
            "Bem-vindo à Calculadora\n"
          ]
        }
      ]
    },
    {
      "cell_type": "code",
      "source": [
        "num1 = float(input('Insira o primeiro número: '))"
      ],
      "metadata": {
        "colab": {
          "base_uri": "https://localhost:8080/"
        },
        "id": "dQyjPDdZfnAa",
        "outputId": "1d8e27dc-db87-42e3-ed43-ecbb2f379932"
      },
      "execution_count": 2,
      "outputs": [
        {
          "name": "stdout",
          "output_type": "stream",
          "text": [
            "Insira o primeiro número: 6\n"
          ]
        }
      ]
    },
    {
      "cell_type": "code",
      "source": [
        "num2 = float(input('Insira o segundo número: '))"
      ],
      "metadata": {
        "colab": {
          "base_uri": "https://localhost:8080/"
        },
        "id": "L-J8NOAQfqY5",
        "outputId": "d05a50de-e858-41d1-ec0c-8c3d8a4eb5bb"
      },
      "execution_count": 3,
      "outputs": [
        {
          "name": "stdout",
          "output_type": "stream",
          "text": [
            "Insira o segundo número: 3\n"
          ]
        }
      ]
    },
    {
      "cell_type": "code",
      "source": [
        "operação = input('Selecione a operação (+, -, *, /): ')"
      ],
      "metadata": {
        "colab": {
          "base_uri": "https://localhost:8080/"
        },
        "id": "ql1_gBK9fwXx",
        "outputId": "34ad150e-688e-407a-e331-f1c0f5dec0dd"
      },
      "execution_count": 4,
      "outputs": [
        {
          "name": "stdout",
          "output_type": "stream",
          "text": [
            "Selecione a operação (+, -, *, /): +\n"
          ]
        }
      ]
    },
    {
      "cell_type": "code",
      "source": [
        "if operação == '+':\n",
        "    resultado = num1 + num2\n",
        "    print(\"O resultado é: \", resultado)\n",
        "elif operação == '-':\n",
        "    resultado = num1 - num2\n",
        "    print(\"O resultado é: \", resultado)\n",
        "elif operação == '*':\n",
        "    resultado = num1 * num2\n",
        "    print(\"O resultado é: \", resultado)\n",
        "elif operação == '/':\n",
        "    resultado = num1 / num2\n",
        "    print(\"O resultado é: \", resultado)\n",
        "else:\n",
        "    print('Operação inválida')"
      ],
      "metadata": {
        "colab": {
          "base_uri": "https://localhost:8080/"
        },
        "id": "uasKjw2hf6Ux",
        "outputId": "b958d38a-bef5-4d35-cbd8-2920395282dd"
      },
      "execution_count": 7,
      "outputs": [
        {
          "output_type": "stream",
          "name": "stdout",
          "text": [
            "O resultado é:  9.0\n"
          ]
        }
      ]
    }
  ]
}