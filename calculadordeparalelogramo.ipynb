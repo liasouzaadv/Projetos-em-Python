{
  "nbformat": 4,
  "nbformat_minor": 0,
  "metadata": {
    "colab": {
      "provenance": [],
      "authorship_tag": "ABX9TyOtgpXNMFlOF8G/lqZ7mRfH",
      "include_colab_link": true
    },
    "kernelspec": {
      "name": "python3",
      "display_name": "Python 3"
    },
    "language_info": {
      "name": "python"
    }
  },
  "cells": [
    {
      "cell_type": "markdown",
      "metadata": {
        "id": "view-in-github",
        "colab_type": "text"
      },
      "source": [
        "<a href=\"https://colab.research.google.com/github/liasouzaadv/Projetos-em-Python/blob/main/calculadordeparalelogramo.ipynb\" target=\"_parent\"><img src=\"https://colab.research.google.com/assets/colab-badge.svg\" alt=\"Open In Colab\"/></a>"
      ]
    },
    {
      "cell_type": "markdown",
      "source": [
        "Calculadora de àrea de paralelogramo."
      ],
      "metadata": {
        "id": "4BXWBRiydb7C"
      }
    },
    {
      "cell_type": "code",
      "source": [
        "print(\"Bem-vindo ao Calculador de Área de Paralelogramo\")"
      ],
      "metadata": {
        "colab": {
          "base_uri": "https://localhost:8080/"
        },
        "id": "oIwI_kmOdkFQ",
        "outputId": "0d947bbe-2bfc-4756-8cb8-cc120427f82f"
      },
      "execution_count": 1,
      "outputs": [
        {
          "output_type": "stream",
          "name": "stdout",
          "text": [
            "Bem-vindo ao Calculador de Área de Paralelogramo\n"
          ]
        }
      ]
    },
    {
      "cell_type": "code",
      "source": [
        "base = float(input('Insira o valor da base: '))"
      ],
      "metadata": {
        "colab": {
          "base_uri": "https://localhost:8080/"
        },
        "id": "97Ftm-I1dpvD",
        "outputId": "6c44aaf0-b3aa-4fda-c27a-daff7f8d691d"
      },
      "execution_count": 2,
      "outputs": [
        {
          "name": "stdout",
          "output_type": "stream",
          "text": [
            "Insira o valor da base: 4\n"
          ]
        }
      ]
    },
    {
      "cell_type": "code",
      "source": [
        "altura = float(input('Insira o valor da altura: '))"
      ],
      "metadata": {
        "colab": {
          "base_uri": "https://localhost:8080/"
        },
        "id": "OGuWoqUJdyJx",
        "outputId": "3c20f2e7-31ca-45bf-f610-1553ae181858"
      },
      "execution_count": 3,
      "outputs": [
        {
          "name": "stdout",
          "output_type": "stream",
          "text": [
            "Insira o valor da altura: 5\n"
          ]
        }
      ]
    },
    {
      "cell_type": "code",
      "source": [
        "area = base * altura"
      ],
      "metadata": {
        "id": "vowNAjCXd1tA"
      },
      "execution_count": 4,
      "outputs": []
    },
    {
      "cell_type": "code",
      "source": [
        "print(\"A área do paralelogramo é: \", area)"
      ],
      "metadata": {
        "colab": {
          "base_uri": "https://localhost:8080/"
        },
        "id": "zF4sfDuGd4wx",
        "outputId": "03984194-49b7-49f6-deae-0f062fdd3115"
      },
      "execution_count": 5,
      "outputs": [
        {
          "output_type": "stream",
          "name": "stdout",
          "text": [
            "A área do paralelogramo é:  20.0\n"
          ]
        }
      ]
    },
    {
      "cell_type": "code",
      "source": [],
      "metadata": {
        "id": "s3VaH9GgeSxp"
      },
      "execution_count": null,
      "outputs": []
    },
    {
      "cell_type": "markdown",
      "metadata": {
        "id": "d2455386"
      },
      "source": [
        "Para salvar este notebook no seu GitHub:\n",
        "\n",
        "1. Vá em \"Arquivo\" no menu superior.\n",
        "2. Selecione \"Salvar uma cópia no GitHub\".\n",
        "3. Siga as instruções para autenticar sua conta GitHub e escolher o repositório e nome do arquivo."
      ]
    }
  ]
}